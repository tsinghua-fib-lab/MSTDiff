{
 "cells": [
  {
   "cell_type": "code",
   "execution_count": 1,
   "id": "initial_id",
   "metadata": {
    "collapsed": true,
    "ExecuteTime": {
     "end_time": "2025-06-05T12:29:43.646139900Z",
     "start_time": "2025-06-05T12:29:43.099100100Z"
    }
   },
   "outputs": [],
   "source": [
    "import numpy as np\n",
    "from scipy.linalg import expm"
   ]
  },
  {
   "cell_type": "code",
   "execution_count": 50,
   "outputs": [
    {
     "name": "stdout",
     "output_type": "stream",
     "text": [
      "Alpha schedule (cumulative): [0.01       0.02048113 0.03146654 0.0429805  0.05504842 0.06769698\n",
      " 0.08095409 0.09484904 0.10941253 0.12467671 0.1406753  0.15744362\n",
      " 0.17501873 0.19343943 0.21274641 0.2329823  0.25419181 0.27642178\n",
      " 0.2997213  0.32414183 0.34973731 0.37656426 0.40468195 0.43415247\n",
      " 0.4650409  0.49741548 0.5313477  0.5669125  0.60418844 0.64325784\n",
      " 0.68420699 0.72712633 0.77211066 0.81925932 0.86867645 0.9204712\n",
      " 0.97475796 1.03165662 1.09129285 1.15379837 1.21931122 1.28797611\n",
      " 1.35994468 1.43537588 1.51443631 1.59730059 1.68415172 1.77518154\n",
      " 1.87059109 1.97059109]\n"
     ]
    }
   ],
   "source": [
    "# Load adjacency matrix (G)\n",
    "G = np.load(\"../data_src/file_of_similarity_mat.npy\", allow_pickle=True)\n",
    "N = G.shape[0] \n",
    "\n",
    "k = 5\n",
    "start = 0.01\n",
    "end = 0.1 \n",
    "num_steps = 50 \n",
    "alpha_hat_tj = np.exp(np.linspace(np.log(start), np.log(end), num_steps))  \n",
    "alpha_tj = np.cumsum(alpha_hat_tj)\n",
    "print(f\"Alpha schedule (cumulative): {alpha_tj}\")\n",
    "\n",
    "A = (G + G.T) / 2 / k\n",
    "R = A.copy()\n",
    "np.fill_diagonal(R, 0)\n",
    "R[np.arange(N), np.arange(N)] = -R.sum(axis=1)\n"
   ],
   "metadata": {
    "collapsed": false,
    "ExecuteTime": {
     "end_time": "2025-06-06T02:56:35.057718800Z",
     "start_time": "2025-06-06T02:56:35.050363900Z"
    }
   },
   "id": "e4682f53163eba14"
  },
  {
   "cell_type": "code",
   "execution_count": 51,
   "outputs": [
    {
     "name": "stdout",
     "output_type": "stream",
     "text": [
      "最大差值: 6.245004513516506e-17\n"
     ]
    }
   ],
   "source": [
    "Qt_list = [expm(alpha_hat_tj[t] * R) for t in range(num_steps)]\n",
    "Qtbar = Qt_list[0]\n",
    "for i in range(1, num_steps): \n",
    "    Qtbar = Qtbar @ Qt_list[i]\n",
    "Qt_direct = expm(alpha_tj[-1] * R)\n",
    "diff = np.abs(Qtbar - Qt_direct)\n",
    "print(\"最大差值:\", diff.max())\n"
   ],
   "metadata": {
    "collapsed": false
   },
   "id": "6a87e3a8a63f0f10"
  },
  {
   "cell_type": "code",
   "execution_count": 54,
   "outputs": [
    {
     "name": "stdout",
     "output_type": "stream",
     "text": [
      "逐步路径: [25]\n",
      "逐步扩散最后结果: 4\n",
      "一步扩散样本结果: [0.01514551 0.01607371 0.015668   0.01568122 0.01578334 0.01519203\n",
      " 0.01584822 0.01589721 0.01531972 0.01397655 0.01635962 0.01585792\n",
      " 0.01454787 0.01576913 0.0156773  0.01548055 0.01477914 0.01543365\n",
      " 0.01257785 0.01321602 0.01273218 0.01466229 0.01504799 0.01606867\n",
      " 0.01628031 0.01816222 0.01554183 0.01247554 0.01238296 0.01227943\n",
      " 0.01278313 0.01316731 0.01271178 0.01539217 0.01477541 0.01564255\n",
      " 0.01270557 0.01281897 0.01354215 0.01441478 0.01522461 0.01453817\n",
      " 0.01361637 0.01215025 0.01582298 0.01449323 0.01539893 0.01237949\n",
      " 0.01441415 0.01564233 0.01556759 0.01393232 0.01326807 0.01481912\n",
      " 0.01255296 0.01242599 0.01258875 0.01400843 0.0139517  0.01545641\n",
      " 0.01636119 0.01539034 0.01338305 0.01290354 0.01466049 0.01272812\n",
      " 0.01517003 0.0162873  0.01299226]\n",
      "Qt_direct的第x0行 [0.01514551 0.01607371 0.015668   0.01568122 0.01578334 0.01519203\n",
      " 0.01584822 0.01589721 0.01531972 0.01397655 0.01635962 0.01585792\n",
      " 0.01454787 0.01576913 0.0156773  0.01548055 0.01477914 0.01543365\n",
      " 0.01257785 0.01321602 0.01273218 0.01466229 0.01504799 0.01606867\n",
      " 0.01628031 0.01816222 0.01554183 0.01247554 0.01238296 0.01227943\n",
      " 0.01278313 0.01316731 0.01271178 0.01539217 0.01477541 0.01564255\n",
      " 0.01270557 0.01281897 0.01354215 0.01441478 0.01522461 0.01453817\n",
      " 0.01361637 0.01215025 0.01582298 0.01449323 0.01539893 0.01237949\n",
      " 0.01441415 0.01564233 0.01556759 0.01393232 0.01326807 0.01481912\n",
      " 0.01255296 0.01242599 0.01258875 0.01400843 0.0139517  0.01545641\n",
      " 0.01636119 0.01539034 0.01338305 0.01290354 0.01466049 0.01272812\n",
      " 0.01517003 0.0162873  0.01299226]\n"
     ]
    }
   ],
   "source": [
    "# 对单独的x0测试\n",
    "T = 40\n",
    "np.random.seed(11)\n",
    "x0 = np.random.choice(N)\n",
    "prob = np.zeros(N)\n",
    "prob[x0] = 1.0  # one-hot\n",
    "\n",
    "sample_path = [x0]\n",
    "for i in range(T):\n",
    "    prob = prob @ Qt_list[i]\n",
    "\n",
    "Qt_direct = expm(alpha_tj[T-1] * R)\n",
    "prob_direct = np.zeros(N)\n",
    "prob_direct[x0] = 1.0\n",
    "final_prob = prob_direct @ Qt_direct\n",
    "\n",
    "final_point = np.random.choice(N, p=prob)\n",
    "print(\"逐步扩散最后结果:\", final_point)\n",
    "# 后面两个应该相等\n",
    "print(\"一步扩散样本结果:\", final_prob)\n",
    "print(\"Qt_direct的第x0行\", Qt_direct[x0])\n"
   ],
   "metadata": {
    "collapsed": false,
    "ExecuteTime": {
     "end_time": "2025-06-06T02:57:55.272114300Z",
     "start_time": "2025-06-06T02:57:55.240749800Z"
    }
   },
   "id": "6d2e2b6f52583156"
  },
  {
   "cell_type": "code",
   "execution_count": 55,
   "outputs": [
    {
     "name": "stdout",
     "output_type": "stream",
     "text": [
      "Alpha schedule (cumulative): [0.01       0.02048113 0.03146654 0.0429805  0.05504842 0.06769698\n",
      " 0.08095409 0.09484904 0.10941253 0.12467671 0.1406753  0.15744362\n",
      " 0.17501873 0.19343943 0.21274641 0.2329823  0.25419181 0.27642178\n",
      " 0.2997213  0.32414183 0.34973731 0.37656426 0.40468195 0.43415247\n",
      " 0.4650409  0.49741548 0.5313477  0.5669125  0.60418844 0.64325784\n",
      " 0.68420699 0.72712633 0.77211066 0.81925932 0.86867645 0.9204712\n",
      " 0.97475796 1.03165662 1.09129285 1.15379837 1.21931122 1.28797611\n",
      " 1.35994468 1.43537588 1.51443631 1.59730059 1.68415172 1.77518154\n",
      " 1.87059109 1.97059109]\n",
      "save success\n"
     ]
    }
   ],
   "source": [
    "import torch\n",
    "# Save Qt and Qtbar to .pt\n",
    "G = np.load(\"../data_src/file_of_similarity_mat.npy\", allow_pickle=True)\n",
    "N = G.shape[0] \n",
    "\n",
    "k = 5\n",
    "start = 0.01\n",
    "end = 0.1 \n",
    "\n",
    "num_steps = 50 \n",
    "alpha_hat_tj = np.exp(np.linspace(np.log(start), np.log(end), num_steps))  # 50 points\n",
    "alpha_tj = np.cumsum(alpha_hat_tj)\n",
    "\n",
    "A = (G + G.T) / 2 / k\n",
    "R = A.copy()\n",
    "np.fill_diagonal(R, 0)\n",
    "R[np.arange(N), np.arange(N)] = -R.sum(axis=1)\n",
    "\n",
    "\n",
    "Qt_list = []\n",
    "Qt_bar_list = []\n",
    "\n",
    "for t in range(num_steps):\n",
    "    Qt = expm(alpha_hat_tj[t] * R)\n",
    "    Qt_bar = expm(alpha_tj[t] * R)\n",
    "    Qt_list.append(torch.from_numpy(Qt).float())\n",
    "    Qt_bar_list.append(torch.from_numpy(Qt_bar).float())\n",
    "\n",
    "# 存为 PyTorch tensor 文件\n",
    "torch.save({\n",
    "    'Qt': torch.stack(Qt_list),\n",
    "    'Qt_bar': torch.stack(Qt_bar_list)\n",
    "}, '../data/Qt_all.pt')\n",
    "print(\"save success\")\n"
   ],
   "metadata": {
    "collapsed": false,
    "ExecuteTime": {
     "end_time": "2025-06-06T02:58:31.857018200Z",
     "start_time": "2025-06-06T02:58:31.710690Z"
    }
   },
   "id": "e069ed1a9bbcc343"
  },
  {
   "cell_type": "code",
   "execution_count": 56,
   "outputs": [
    {
     "name": "stdout",
     "output_type": "stream",
     "text": [
      "50 torch.Size([69, 69])\n",
      "50 torch.Size([69, 69])\n"
     ]
    }
   ],
   "source": [
    "# test .pt\n",
    "data = torch.load('../data/Qt_all.pt', weights_only=True)\n",
    "print(len(data['Qt']), data['Qt'][0].shape)\n",
    "print(len(data['Qt_bar']), data['Qt_bar'][0].shape)"
   ],
   "metadata": {
    "collapsed": false,
    "ExecuteTime": {
     "end_time": "2025-06-06T02:58:41.444365200Z",
     "start_time": "2025-06-06T02:58:41.415364900Z"
    }
   },
   "id": "afb5e4e47ee88c26"
  }
 ],
 "metadata": {
  "kernelspec": {
   "display_name": "Python 3",
   "language": "python",
   "name": "python3"
  },
  "language_info": {
   "codemirror_mode": {
    "name": "ipython",
    "version": 2
   },
   "file_extension": ".py",
   "mimetype": "text/x-python",
   "name": "python",
   "nbconvert_exporter": "python",
   "pygments_lexer": "ipython2",
   "version": "2.7.6"
  }
 },
 "nbformat": 4,
 "nbformat_minor": 5
}
